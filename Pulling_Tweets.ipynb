{
  "cells": [
    {
      "cell_type": "markdown",
      "metadata": {
        "id": "view-in-github",
        "colab_type": "text"
      },
      "source": [
        "<a href=\"https://colab.research.google.com/github/ridhimagoyal/Object-Detection-Basic/blob/main/Pulling_Tweets.ipynb\" target=\"_parent\"><img src=\"https://colab.research.google.com/assets/colab-badge.svg\" alt=\"Open In Colab\"/></a>"
      ]
    },
    {
      "cell_type": "code",
      "execution_count": 1,
      "metadata": {
        "id": "qZNCzOwpvSVv",
        "colab": {
          "base_uri": "https://localhost:8080/"
        },
        "outputId": "d248ebef-f49b-42e1-f4ca-0a8749e363ee"
      },
      "outputs": [
        {
          "output_type": "stream",
          "name": "stdout",
          "text": [
            "Collecting git+https://github.com/tweepy/tweepy.git\n",
            "  Cloning https://github.com/tweepy/tweepy.git to /tmp/pip-req-build-osysj4oj\n",
            "  Running command git clone --filter=blob:none --quiet https://github.com/tweepy/tweepy.git /tmp/pip-req-build-osysj4oj\n",
            "  Resolved https://github.com/tweepy/tweepy.git to commit db28c0e84826485755eb7fcef0c30f75395dff5f\n",
            "  Installing build dependencies ... \u001b[?25l\u001b[?25hdone\n",
            "  Getting requirements to build wheel ... \u001b[?25l\u001b[?25hdone\n",
            "  Preparing metadata (pyproject.toml) ... \u001b[?25l\u001b[?25hdone\n",
            "Requirement already satisfied: oauthlib<4,>=3.2.0 in /usr/local/lib/python3.11/dist-packages (from tweepy==4.15.0) (3.2.2)\n",
            "Requirement already satisfied: requests<3,>=2.27.0 in /usr/local/lib/python3.11/dist-packages (from tweepy==4.15.0) (2.32.3)\n",
            "Requirement already satisfied: requests-oauthlib<3,>=1.2.0 in /usr/local/lib/python3.11/dist-packages (from tweepy==4.15.0) (2.0.0)\n",
            "Requirement already satisfied: charset-normalizer<4,>=2 in /usr/local/lib/python3.11/dist-packages (from requests<3,>=2.27.0->tweepy==4.15.0) (3.4.2)\n",
            "Requirement already satisfied: idna<4,>=2.5 in /usr/local/lib/python3.11/dist-packages (from requests<3,>=2.27.0->tweepy==4.15.0) (3.10)\n",
            "Requirement already satisfied: urllib3<3,>=1.21.1 in /usr/local/lib/python3.11/dist-packages (from requests<3,>=2.27.0->tweepy==4.15.0) (2.4.0)\n",
            "Requirement already satisfied: certifi>=2017.4.17 in /usr/local/lib/python3.11/dist-packages (from requests<3,>=2.27.0->tweepy==4.15.0) (2025.4.26)\n"
          ]
        }
      ],
      "source": [
        "pip install git+https://github.com/tweepy/tweepy.git"
      ]
    },
    {
      "cell_type": "code",
      "source": [
        "pip install tweepy\n"
      ],
      "metadata": {
        "colab": {
          "base_uri": "https://localhost:8080/"
        },
        "id": "dSbq2BWbk-ww",
        "outputId": "99d14a4f-16c0-4637-a3ee-8fc099e3a41f"
      },
      "execution_count": 7,
      "outputs": [
        {
          "output_type": "stream",
          "name": "stdout",
          "text": [
            "Requirement already satisfied: tweepy in /usr/local/lib/python3.11/dist-packages (4.15.0)\n",
            "Requirement already satisfied: oauthlib<4,>=3.2.0 in /usr/local/lib/python3.11/dist-packages (from tweepy) (3.2.2)\n",
            "Requirement already satisfied: requests<3,>=2.27.0 in /usr/local/lib/python3.11/dist-packages (from tweepy) (2.32.3)\n",
            "Requirement already satisfied: requests-oauthlib<3,>=1.2.0 in /usr/local/lib/python3.11/dist-packages (from tweepy) (2.0.0)\n",
            "Requirement already satisfied: charset-normalizer<4,>=2 in /usr/local/lib/python3.11/dist-packages (from requests<3,>=2.27.0->tweepy) (3.4.2)\n",
            "Requirement already satisfied: idna<4,>=2.5 in /usr/local/lib/python3.11/dist-packages (from requests<3,>=2.27.0->tweepy) (3.10)\n",
            "Requirement already satisfied: urllib3<3,>=1.21.1 in /usr/local/lib/python3.11/dist-packages (from requests<3,>=2.27.0->tweepy) (2.4.0)\n",
            "Requirement already satisfied: certifi>=2017.4.17 in /usr/local/lib/python3.11/dist-packages (from requests<3,>=2.27.0->tweepy) (2025.4.26)\n"
          ]
        }
      ]
    },
    {
      "cell_type": "code",
      "source": [
        "# import tweepy\n",
        "# import pandas as pd\n",
        "\n",
        "# # Replace with your Bearer Token\n",
        "# bearer_token = \"AAAAAAAAAAAAAAAAAAAAAFrt2QEAAAAANy2XWP%2B9xTUaeCPNsbu3AbpQi%2Bg%3DScPVtPd5u4fEh5xwKRoQREg26fsmP2kFsNOoTsFkXWzMeBbddG\"\n",
        "\n",
        "# # Initialize Tweepy Client\n",
        "# client = tweepy.Client(bearer_token=bearer_token)\n",
        "\n",
        "# # Define your keywords\n",
        "# keywords = [\"block\", \"fight\", \"strike\"]\n",
        "# query = \" OR \".join(keywords) + \" -is:retweet -is:reply\"  # Exclude retweets and replies\n",
        "\n",
        "# # Fetch recent tweets\n",
        "# response = client.search_recent_tweets(\n",
        "#     query=query,\n",
        "#     tweet_fields=[\"created_at\", \"public_metrics\", \"author_id\", \"lang\"],\n",
        "#     max_results=50,  # Max per request is 100\n",
        "# )\n",
        "\n",
        "# # Parse results into a DataFrame (if tweets found)\n",
        "# if response.data:\n",
        "#     tweets_data = [\n",
        "#         {\n",
        "#             \"Tweet\": tweet.text,\n",
        "#             \"Created At\": tweet.created_at,\n",
        "#             \"Author ID\": tweet.author_id,\n",
        "#             \"Like Count\": tweet.public_metrics[\"like_count\"],\n",
        "#             \"Retweet Count\": tweet.public_metrics[\"retweet_count\"],\n",
        "#             \"Language\": tweet.lang\n",
        "#         }\n",
        "#         for tweet in response.data\n",
        "#     ]\n",
        "#     df = pd.DataFrame(tweets_data)\n",
        "#     print(df)\n",
        "# else:\n",
        "#     print(\"No tweets found matching your keywords.\")\n"
      ],
      "metadata": {
        "colab": {
          "base_uri": "https://localhost:8080/"
        },
        "id": "Wuzf3ZNslCvd",
        "outputId": "5655ba62-b2f9-4f12-c0c0-f8ee54687a4d"
      },
      "execution_count": 9,
      "outputs": [
        {
          "output_type": "stream",
          "name": "stdout",
          "text": [
            "                                                Tweet  \\\n",
            "0   RT @BriannaWu: If you’ve noticed a strong down...   \n",
            "1   Na cos he no dey fight for pitch\\nExpose that ...   \n",
            "2   Just had the craziest day! Spent the morning a...   \n",
            "3   RT @MuminJamiean: If you respond with 3 replys...   \n",
            "4   RT @bennyjohnson: Every man needs something to...   \n",
            "5             @purse_jame48483 @smencimer 🖕and block.   \n",
            "6   RT @DorianePin: What a win!! 💪\\n\\nGreat to fig...   \n",
            "7   Omo 1 girl like that from Sudan dey video call...   \n",
            "8   RT @emilykschrader: At the site of the missile...   \n",
            "9   RT @codyrussel70504: Hello friends! \\nMeet my ...   \n",
            "10  @matt_vanswol @nicksortor Because republicans ...   \n",
            "11  RT @lunartifa: Tifa’s fight in AC will always ...   \n",
            "12  RT @xupseude: how to make the champion fold (n...   \n",
            "13  RT @AndresFleurqui1: Girl fight at school http...   \n",
            "14  RT @JKRadioUpdater: 🚨Report -&gt; Mute -&gt; B...   \n",
            "15  @Rameshshetty500 @ImDanger143 @LoudAndKlear Ev...   \n",
            "16  RT @bennyjohnson: Every man needs something to...   \n",
            "17  RT @MuminJamiean: If you respond with 3 replys...   \n",
            "18  RT @Sage1709: If you must pick a fight, pick o...   \n",
            "19  Wanna play coin flip ?\\n\\nEvery new block is a...   \n",
            "20  RT @P_McCulloughMD: How Many Doctors Kept Thei...   \n",
            "21  Risking everything on a high-stakes bet is lik...   \n",
            "22  RT @IanCarrollShow: @SenAshleyMoody No it does...   \n",
            "23  @TheBigRedLie @NikkiFried And definitely don't...   \n",
            "24  Missile Strike In Israel … Looks Like Somethin...   \n",
            "25  RT @tyletithappen: if you see this, comment an...   \n",
            "26  RT @BiancaBelairWWE: 30 missed calls from 1am-...   \n",
            "27  @larryelder Fuck Israel, why don't you get it....   \n",
            "28  #薬屋のひとりごと × #モンスト コラボ開催！猫猫と壬氏がガチャに登場！玉葉妃や子翠のコラ...   \n",
            "29  RT @CosmicChar54318: While nations fight over ...   \n",
            "30  Cyber Angel of brilliant light\\nCreation of Be...   \n",
            "31  RT @Dannic44: Happy Birthday @realDonaldTrump ...   \n",
            "32  RT @RupertLowe10: Starmer has done the right t...   \n",
            "33  RT @Oracle1313: If you are peacefully protesti...   \n",
            "34  RT @tcblume: Images from @kfor crews and 4Sigh...   \n",
            "35  Investing in a decentralized lending platform ...   \n",
            "36  RT @BiancaBelairWWE: 30 missed calls from 1am-...   \n",
            "37  RT @chaloobie: „I guess I have to fight tooth ...   \n",
            "38  RT @toys_ndjebela: Racism. Look away when peop...   \n",
            "39  RT @NikkiFried: Thousands right here in Florid...   \n",
            "40  RT @RupertLowe10: Starmer has done the right t...   \n",
            "41  RT @DavidHundeyin: Dear Nigerian Dummy on Twit...   \n",
            "42  @IranSpec ALL IRAN HAS LEFT TO FIGHT WITH ARE ...   \n",
            "43  RT @MarshaBlackburn: Happy Birthday to our fea...   \n",
            "44  RT @LegitTargets: ❌🇺🇸🇮🇱 BREAKING: TUCKER CARLS...   \n",
            "45  RT @lladymocha: I’m soft, not stupid. I’ll pra...   \n",
            "46  RT @MichelleMaxwell: What MSM won’t show you. ...   \n",
            "47  RT @SprinterObserve: \"Israel has set its sight...   \n",
            "48  While @Satellogic $SATL declines due to an ear...   \n",
            "49  Netanyahu lovingly, respectfully addresses the...   \n",
            "\n",
            "                  Created At            Author ID  Like Count  Retweet Count  \\\n",
            "0  2025-06-14 17:54:43+00:00  1289705570623053824           0             28   \n",
            "1  2025-06-14 17:54:43+00:00  1289712914694311936           0              0   \n",
            "2  2025-06-14 17:54:43+00:00  1927620061772005376           0              0   \n",
            "3  2025-06-14 17:54:43+00:00  1361296040545169412           0            466   \n",
            "4  2025-06-14 17:54:43+00:00  1907202149593071616           0            608   \n",
            "5  2025-06-14 17:54:43+00:00   741674044827766784           0              0   \n",
            "6  2025-06-14 17:54:42+00:00  1896009005740572672           0            398   \n",
            "7  2025-06-14 17:54:42+00:00  1894350978565963776           0              0   \n",
            "8  2025-06-14 17:54:42+00:00  1416229888294494210           0            491   \n",
            "9  2025-06-14 17:54:42+00:00  1753799815756992512           0             17   \n",
            "10 2025-06-14 17:54:42+00:00  1821010880240234497           0              0   \n",
            "11 2025-06-14 17:54:42+00:00             20786852           0            306   \n",
            "12 2025-06-14 17:54:42+00:00  1534470673422094336           0             13   \n",
            "13 2025-06-14 17:54:41+00:00  1779355810369310720           0             28   \n",
            "14 2025-06-14 17:54:41+00:00  1304492495821307905           0             57   \n",
            "15 2025-06-14 17:54:41+00:00  1918987670400958464           0              0   \n",
            "16 2025-06-14 17:54:41+00:00  1805321390397980672           0            608   \n",
            "17 2025-06-14 17:54:41+00:00  1857708575965237248           0            466   \n",
            "18 2025-06-14 17:54:41+00:00  1920510911187394560           0            229   \n",
            "19 2025-06-14 17:54:41+00:00  1914287878441504768           0              0   \n",
            "20 2025-06-14 17:54:40+00:00             16538461           0            516   \n",
            "21 2025-06-14 17:54:40+00:00  1926279828249923584           0              0   \n",
            "22 2025-06-14 17:54:40+00:00  1752768880030662656           0           1698   \n",
            "23 2025-06-14 17:54:40+00:00  1605274998050115586           0              0   \n",
            "24 2025-06-14 17:54:40+00:00  1900688119013244929           0              0   \n",
            "25 2025-06-14 17:54:40+00:00  1563790231471624192           0              1   \n",
            "26 2025-06-14 17:54:39+00:00             51662335           0            375   \n",
            "27 2025-06-14 17:54:39+00:00           2915165166           0              0   \n",
            "28 2025-06-14 17:54:39+00:00   943847275981283328           0              0   \n",
            "29 2025-06-14 17:54:39+00:00  1816881038003699717           0              0   \n",
            "30 2025-06-14 17:54:39+00:00  1902801461878112256           0              0   \n",
            "31 2025-06-14 17:54:39+00:00   818628896627314688           0             13   \n",
            "32 2025-06-14 17:54:39+00:00            614096720           0            557   \n",
            "33 2025-06-14 17:54:39+00:00           4778126849           0            165   \n",
            "34 2025-06-14 17:54:39+00:00            189101596           0             52   \n",
            "35 2025-06-14 17:54:38+00:00  1928339644086964224           0              0   \n",
            "36 2025-06-14 17:54:38+00:00  1723678741165965312           0            375   \n",
            "37 2025-06-14 17:54:38+00:00           2996960660           0            387   \n",
            "38 2025-06-14 17:54:38+00:00  1159444810744455169           0              4   \n",
            "39 2025-06-14 17:54:38+00:00  1610444946598920193           0           1269   \n",
            "40 2025-06-14 17:54:37+00:00  1567878633150201858           0            557   \n",
            "41 2025-06-14 17:54:37+00:00            287796391           0            233   \n",
            "42 2025-06-14 17:54:37+00:00  1903435760126001154           0              0   \n",
            "43 2025-06-14 17:54:36+00:00           1169237472           0            660   \n",
            "44 2025-06-14 17:54:36+00:00  1516798375554957316           0            803   \n",
            "45 2025-06-14 17:54:36+00:00   947760658547798016           0            300   \n",
            "46 2025-06-14 17:54:36+00:00  1783648624838356992           0            112   \n",
            "47 2025-06-14 17:54:36+00:00  1735820563107483649           0            165   \n",
            "48 2025-06-14 17:54:36+00:00  1431304327197495298           0              0   \n",
            "49 2025-06-14 17:54:36+00:00   863796693317427200           0              0   \n",
            "\n",
            "   Language  \n",
            "0        en  \n",
            "1        en  \n",
            "2        en  \n",
            "3        en  \n",
            "4        en  \n",
            "5        en  \n",
            "6        en  \n",
            "7        en  \n",
            "8        en  \n",
            "9        en  \n",
            "10       en  \n",
            "11       en  \n",
            "12       en  \n",
            "13       en  \n",
            "14       en  \n",
            "15       et  \n",
            "16       en  \n",
            "17       en  \n",
            "18       en  \n",
            "19       en  \n",
            "20       en  \n",
            "21       en  \n",
            "22       en  \n",
            "23       en  \n",
            "24       en  \n",
            "25       en  \n",
            "26       en  \n",
            "27       en  \n",
            "28       ja  \n",
            "29       en  \n",
            "30       en  \n",
            "31       en  \n",
            "32       en  \n",
            "33       en  \n",
            "34       en  \n",
            "35       en  \n",
            "36       en  \n",
            "37       en  \n",
            "38       en  \n",
            "39       en  \n",
            "40       en  \n",
            "41       en  \n",
            "42       en  \n",
            "43       en  \n",
            "44       en  \n",
            "45       en  \n",
            "46       en  \n",
            "47       en  \n",
            "48       en  \n",
            "49       en  \n"
          ]
        }
      ]
    },
    {
      "cell_type": "code",
      "source": [
        "import tweepy\n",
        "import pandas as pd\n",
        "from textblob import TextBlob\n",
        "\n",
        "bearer_token = \"AAAAAAAAAAAAAAAAAAAAAFrt2QEAAAAANy2XWP%2B9xTUaeCPNsbu3AbpQi%2Bg%3DScPVtPd5u4fEh5xwKRoQREg26fsmP2kFsNOoTsFkXWzMeBbddG\"\n",
        "\n",
        "client = tweepy.Client(bearer_token=bearer_token)\n",
        "\n",
        "keywords = [\n",
        "    \"protest\", \"strike\", \"shutdown\", \"roadblock\", \"blockade\",\n",
        "    \"rail roko\", \"andolan\", \"dharna\", \"rasta roko\", \"traffic jam\"\n",
        "]\n",
        "\n",
        "target_regions = [\"Delhi\", \"Mumbai\",\"Hyderabad\"]\n",
        "query = \"(\" + \" OR \".join(keywords) + \")\" + \" (\" + \" OR \".join(target_regions) + \")\" + \" -is:retweet -is:reply\"\n",
        "\n",
        "response = client.search_recent_tweets(\n",
        "    query=query,\n",
        "    tweet_fields=[\"created_at\", \"public_metrics\", \"author_id\", \"lang\"],\n",
        "    max_results=50,\n",
        ")\n",
        "\n",
        "def classify_tweet(text):\n",
        "    text_lower = text.lower()\n",
        "    if \"protest\" in text_lower or \"andolan\" in text_lower:\n",
        "        event_type = \"Protest\"\n",
        "    elif \"strike\" in text_lower or \"dharna\" in text_lower:\n",
        "        event_type = \"Strike\"\n",
        "    elif \"shutdown\" in text_lower:\n",
        "        event_type = \"Shutdown\"\n",
        "    elif any(word in text_lower for word in [\"traffic jam\", \"roadblock\", \"rasta roko\"]):\n",
        "        event_type = \"Blockage\"\n",
        "    else:\n",
        "        event_type = \"Other\"\n",
        "\n",
        "    # Severity analysis using sentiment\n",
        "    polarity = TextBlob(text).sentiment.polarity\n",
        "    severity = \"High\" if polarity < -0.3 else \"Medium\" if polarity < 0 else \"Low\"\n",
        "\n",
        "    return event_type, severity\n",
        "\n",
        "# Store tweets with classification\n",
        "tweets_data = []\n",
        "if response.data:\n",
        "    for tweet in response.data:\n",
        "        event_type, severity = classify_tweet(tweet.text)\n",
        "        tweets_data.append({\n",
        "            \"Tweet\": tweet.text,\n",
        "            \"Created At\": tweet.created_at,\n",
        "            \"Author ID\": tweet.author_id,\n",
        "            \"Like Count\": tweet.public_metrics[\"like_count\"],\n",
        "            \"Retweet Count\": tweet.public_metrics[\"retweet_count\"],\n",
        "            \"Language\": tweet.lang,\n",
        "            \"Event Type\": event_type,\n",
        "            \"Severity\": severity\n",
        "        })\n",
        "\n",
        "    df = pd.DataFrame(tweets_data)\n",
        "    print(df)\n",
        "else:\n",
        "    print(\"No relevant tweets found.\")\n"
      ],
      "metadata": {
        "colab": {
          "base_uri": "https://localhost:8080/",
          "height": 373
        },
        "id": "RvBGadlvr0dp",
        "outputId": "524e9817-796a-4a68-d65c-1e52a15eae9b"
      },
      "execution_count": 12,
      "outputs": [
        {
          "output_type": "error",
          "ename": "TooManyRequests",
          "evalue": "429 Too Many Requests\nToo Many Requests",
          "traceback": [
            "\u001b[0;31m---------------------------------------------------------------------------\u001b[0m",
            "\u001b[0;31mTooManyRequests\u001b[0m                           Traceback (most recent call last)",
            "\u001b[0;32m<ipython-input-12-1704398577>\u001b[0m in \u001b[0;36m<cell line: 0>\u001b[0;34m()\u001b[0m\n\u001b[1;32m     19\u001b[0m \u001b[0;34m\u001b[0m\u001b[0m\n\u001b[1;32m     20\u001b[0m \u001b[0;31m# Fetch tweets\u001b[0m\u001b[0;34m\u001b[0m\u001b[0;34m\u001b[0m\u001b[0m\n\u001b[0;32m---> 21\u001b[0;31m response = client.search_recent_tweets(\n\u001b[0m\u001b[1;32m     22\u001b[0m     \u001b[0mquery\u001b[0m\u001b[0;34m=\u001b[0m\u001b[0mquery\u001b[0m\u001b[0;34m,\u001b[0m\u001b[0;34m\u001b[0m\u001b[0;34m\u001b[0m\u001b[0m\n\u001b[1;32m     23\u001b[0m     \u001b[0mtweet_fields\u001b[0m\u001b[0;34m=\u001b[0m\u001b[0;34m[\u001b[0m\u001b[0;34m\"created_at\"\u001b[0m\u001b[0;34m,\u001b[0m \u001b[0;34m\"public_metrics\"\u001b[0m\u001b[0;34m,\u001b[0m \u001b[0;34m\"author_id\"\u001b[0m\u001b[0;34m,\u001b[0m \u001b[0;34m\"lang\"\u001b[0m\u001b[0;34m]\u001b[0m\u001b[0;34m,\u001b[0m\u001b[0;34m\u001b[0m\u001b[0;34m\u001b[0m\u001b[0m\n",
            "\u001b[0;32m/usr/local/lib/python3.11/dist-packages/tweepy/client.py\u001b[0m in \u001b[0;36msearch_recent_tweets\u001b[0;34m(self, query, user_auth, **params)\u001b[0m\n\u001b[1;32m   1268\u001b[0m         \"\"\"\n\u001b[1;32m   1269\u001b[0m         \u001b[0mparams\u001b[0m\u001b[0;34m[\u001b[0m\u001b[0;34m\"query\"\u001b[0m\u001b[0;34m]\u001b[0m \u001b[0;34m=\u001b[0m \u001b[0mquery\u001b[0m\u001b[0;34m\u001b[0m\u001b[0;34m\u001b[0m\u001b[0m\n\u001b[0;32m-> 1270\u001b[0;31m         return self._make_request(\n\u001b[0m\u001b[1;32m   1271\u001b[0m             \u001b[0;34m\"GET\"\u001b[0m\u001b[0;34m,\u001b[0m \u001b[0;34m\"/2/tweets/search/recent\"\u001b[0m\u001b[0;34m,\u001b[0m \u001b[0mparams\u001b[0m\u001b[0;34m=\u001b[0m\u001b[0mparams\u001b[0m\u001b[0;34m,\u001b[0m\u001b[0;34m\u001b[0m\u001b[0;34m\u001b[0m\u001b[0m\n\u001b[1;32m   1272\u001b[0m             endpoint_parameters=(\n",
            "\u001b[0;32m/usr/local/lib/python3.11/dist-packages/tweepy/client.py\u001b[0m in \u001b[0;36m_make_request\u001b[0;34m(self, method, route, params, endpoint_parameters, json, data_type, user_auth)\u001b[0m\n\u001b[1;32m    127\u001b[0m         \u001b[0mrequest_params\u001b[0m \u001b[0;34m=\u001b[0m \u001b[0mself\u001b[0m\u001b[0;34m.\u001b[0m\u001b[0m_process_params\u001b[0m\u001b[0;34m(\u001b[0m\u001b[0mparams\u001b[0m\u001b[0;34m,\u001b[0m \u001b[0mendpoint_parameters\u001b[0m\u001b[0;34m)\u001b[0m\u001b[0;34m\u001b[0m\u001b[0;34m\u001b[0m\u001b[0m\n\u001b[1;32m    128\u001b[0m \u001b[0;34m\u001b[0m\u001b[0m\n\u001b[0;32m--> 129\u001b[0;31m         response = self.request(method, route, params=request_params,\n\u001b[0m\u001b[1;32m    130\u001b[0m                                 json=json, user_auth=user_auth)\n\u001b[1;32m    131\u001b[0m \u001b[0;34m\u001b[0m\u001b[0m\n",
            "\u001b[0;32m/usr/local/lib/python3.11/dist-packages/tweepy/client.py\u001b[0m in \u001b[0;36mrequest\u001b[0;34m(self, method, route, params, json, user_auth)\u001b[0m\n\u001b[1;32m    113\u001b[0m                     \u001b[0;32mreturn\u001b[0m \u001b[0mself\u001b[0m\u001b[0;34m.\u001b[0m\u001b[0mrequest\u001b[0m\u001b[0;34m(\u001b[0m\u001b[0mmethod\u001b[0m\u001b[0;34m,\u001b[0m \u001b[0mroute\u001b[0m\u001b[0;34m,\u001b[0m \u001b[0mparams\u001b[0m\u001b[0;34m,\u001b[0m \u001b[0mjson\u001b[0m\u001b[0;34m,\u001b[0m \u001b[0muser_auth\u001b[0m\u001b[0;34m)\u001b[0m\u001b[0;34m\u001b[0m\u001b[0;34m\u001b[0m\u001b[0m\n\u001b[1;32m    114\u001b[0m                 \u001b[0;32melse\u001b[0m\u001b[0;34m:\u001b[0m\u001b[0;34m\u001b[0m\u001b[0;34m\u001b[0m\u001b[0m\n\u001b[0;32m--> 115\u001b[0;31m                     \u001b[0;32mraise\u001b[0m \u001b[0mTooManyRequests\u001b[0m\u001b[0;34m(\u001b[0m\u001b[0mresponse\u001b[0m\u001b[0;34m)\u001b[0m\u001b[0;34m\u001b[0m\u001b[0;34m\u001b[0m\u001b[0m\n\u001b[0m\u001b[1;32m    116\u001b[0m             \u001b[0;32mif\u001b[0m \u001b[0mresponse\u001b[0m\u001b[0;34m.\u001b[0m\u001b[0mstatus_code\u001b[0m \u001b[0;34m>=\u001b[0m \u001b[0;36m500\u001b[0m\u001b[0;34m:\u001b[0m\u001b[0;34m\u001b[0m\u001b[0;34m\u001b[0m\u001b[0m\n\u001b[1;32m    117\u001b[0m                 \u001b[0;32mraise\u001b[0m \u001b[0mTwitterServerError\u001b[0m\u001b[0;34m(\u001b[0m\u001b[0mresponse\u001b[0m\u001b[0;34m)\u001b[0m\u001b[0;34m\u001b[0m\u001b[0;34m\u001b[0m\u001b[0m\n",
            "\u001b[0;31mTooManyRequests\u001b[0m: 429 Too Many Requests\nToo Many Requests"
          ]
        }
      ]
    },
    {
      "cell_type": "code",
      "source": [
        "supplier_regions = {\n",
        "    \"SupplierA\": \"Delhi\",\n",
        "    \"SupplierB\": \"Mumbai\",\n",
        "    \"SupplierC\": \"Hyderabad\"\n",
        "}\n",
        "severity_score = {\n",
        "    \"High\": 3,\n",
        "    \"Medium\": 2,\n",
        "    \"Low\": 1\n",
        "}\n",
        "\n",
        "# Assuming `df` is your DataFrame from the Twitter fetch\n",
        "def calculate_risk(df, supplier_regions):\n",
        "    severity_score = {\"High\": 3, \"Medium\": 2, \"Low\": 1}\n",
        "    region_scores = {region: 0 for region in set(supplier_regions.values())}\n",
        "\n",
        "    for _, row in df.iterrows():\n",
        "        for region in region_scores:\n",
        "            if region.lower() in row[\"Tweet\"].lower():\n",
        "                region_scores[region] += severity_score[row[\"Severity\"]]\n",
        "\n",
        "    supplier_risk = {}\n",
        "    for supplier, region in supplier_regions.items():\n",
        "        score = region_scores.get(region, 0)\n",
        "        if score >= 9:\n",
        "            risk = \"High Risk\"\n",
        "        elif score >= 4:\n",
        "            risk = \"Medium Risk\"\n",
        "        else:\n",
        "            risk = \"Low Risk\"\n",
        "        supplier_risk[supplier] = {\"Region\": region, \"Score\": score, \"Risk Level\": risk}\n",
        "\n",
        "    return supplier_risk\n"
      ],
      "metadata": {
        "id": "O5zLlOi9tnQZ"
      },
      "execution_count": null,
      "outputs": []
    },
    {
      "cell_type": "code",
      "execution_count": 4,
      "metadata": {
        "id": "vW7t3Pj_vPxC",
        "colab": {
          "base_uri": "https://localhost:8080/"
        },
        "outputId": "8a2519c4-eaec-407d-8f2b-440f60bdf5d6"
      },
      "outputs": [
        {
          "output_type": "stream",
          "name": "stdout",
          "text": [
            "Status Failed On, 403 Forbidden\n",
            "453 - You currently have access to a subset of X API V2 endpoints and limited v1.1 endpoints (e.g. media post, oauth) only. If you need access to this endpoint, you may need a different access level. You can learn more here: https://developer.x.com/en/portal/product\n"
          ]
        }
      ],
      "source": [
        "import tweepy\n",
        "import pandas as pd\n",
        "\n",
        "consumer_key = \"R6JP5NRFzWYCB2uEHk1SFoRFb\" #Your API/Consumer key\n",
        "consumer_secret = \"4kmuzAfSqBw8HCzuRWo9UBKVsDwasPfGZa74Aby1jZ1LvqpXxP\" #Your API/Consumer Secret Key\n",
        "access_token = \"1711757990796341248-kQFj3kfMdSL0MyYdWlEYrzbGsUZmgz\"   #Your Access token key\n",
        "access_token_secret = \"H6ntYMFDm46Gslp7MzfV3VSqkZxjg2qqadiVykomtFqx7\" #Your Access token Secret key\n"
      ]
    },
    {
      "cell_type": "code",
      "execution_count": 6,
      "metadata": {
        "id": "SxsJaggQxuTZ",
        "colab": {
          "base_uri": "https://localhost:8080/",
          "height": 141
        },
        "outputId": "07af2a8f-684d-46a6-ad2e-705a325ffd59"
      },
      "outputs": [
        {
          "output_type": "error",
          "ename": "NameError",
          "evalue": "name 'tweets_df' is not defined",
          "traceback": [
            "\u001b[0;31m---------------------------------------------------------------------------\u001b[0m",
            "\u001b[0;31mNameError\u001b[0m                                 Traceback (most recent call last)",
            "\u001b[0;32m<ipython-input-6-1640839297>\u001b[0m in \u001b[0;36m<cell line: 0>\u001b[0;34m()\u001b[0m\n\u001b[0;32m----> 1\u001b[0;31m \u001b[0mtweets_df\u001b[0m\u001b[0;34m\u001b[0m\u001b[0;34m\u001b[0m\u001b[0m\n\u001b[0m",
            "\u001b[0;31mNameError\u001b[0m: name 'tweets_df' is not defined"
          ]
        }
      ],
      "source": [
        "tweets_df"
      ]
    },
    {
      "cell_type": "code",
      "source": [
        "tweets[0]"
      ],
      "metadata": {
        "colab": {
          "base_uri": "https://localhost:8080/"
        },
        "id": "utNXrcjA_MPr",
        "outputId": "e6fbedec-abde-4aac-b6d1-5465afbce879"
      },
      "execution_count": null,
      "outputs": [
        {
          "output_type": "execute_result",
          "data": {
            "text/plain": [
              "Status(_api=<tweepy.api.API object at 0x7f2c587c0b80>, _json={'created_at': 'Fri Dec 23 04:38:40 +0000 2022', 'id': 1606147252468211714, 'id_str': '1606147252468211714', 'full_text': 'Once again, the English are criticising everyone in their world cup defeat except the guy who missed a penalty that would have taken the game to extra time. They blame the ref, FIFA, Rashford, climate change but not Mr England (Kane) who hoofed that ball into the stands.', 'truncated': False, 'display_text_range': [0, 271], 'entities': {'hashtags': [], 'symbols': [], 'user_mentions': [], 'urls': []}, 'metadata': {'iso_language_code': 'en', 'result_type': 'recent'}, 'source': '<a href=\"http://twitter.com/download/android\" rel=\"nofollow\">Twitter for Android</a>', 'in_reply_to_status_id': None, 'in_reply_to_status_id_str': None, 'in_reply_to_user_id': None, 'in_reply_to_user_id_str': None, 'in_reply_to_screen_name': None, 'user': {'id': 1267956633830862850, 'id_str': '1267956633830862850', 'name': 'Muswema Mukuni Kambaki', 'screen_name': 'ChizoKambaki', 'location': 'Zambia ', 'description': 'Living in a world quite similar to this one 🌍', 'url': None, 'entities': {'description': {'urls': []}}, 'protected': False, 'followers_count': 27, 'friends_count': 482, 'listed_count': 0, 'created_at': 'Tue Jun 02 23:10:11 +0000 2020', 'favourites_count': 1026, 'utc_offset': None, 'time_zone': None, 'geo_enabled': False, 'verified': False, 'statuses_count': 560, 'lang': None, 'contributors_enabled': False, 'is_translator': False, 'is_translation_enabled': False, 'profile_background_color': 'F5F8FA', 'profile_background_image_url': None, 'profile_background_image_url_https': None, 'profile_background_tile': False, 'profile_image_url': 'http://pbs.twimg.com/profile_images/1497596010151002112/nElV5B4L_normal.jpg', 'profile_image_url_https': 'https://pbs.twimg.com/profile_images/1497596010151002112/nElV5B4L_normal.jpg', 'profile_banner_url': 'https://pbs.twimg.com/profile_banners/1267956633830862850/1669622520', 'profile_link_color': '1DA1F2', 'profile_sidebar_border_color': 'C0DEED', 'profile_sidebar_fill_color': 'DDEEF6', 'profile_text_color': '333333', 'profile_use_background_image': True, 'has_extended_profile': True, 'default_profile': True, 'default_profile_image': False, 'following': False, 'follow_request_sent': False, 'notifications': False, 'translator_type': 'none', 'withheld_in_countries': []}, 'geo': None, 'coordinates': None, 'place': None, 'contributors': None, 'is_quote_status': False, 'retweet_count': 0, 'favorite_count': 0, 'favorited': False, 'retweeted': False, 'lang': 'en'}, created_at=datetime.datetime(2022, 12, 23, 4, 38, 40, tzinfo=datetime.timezone.utc), id=1606147252468211714, id_str='1606147252468211714', full_text='Once again, the English are criticising everyone in their world cup defeat except the guy who missed a penalty that would have taken the game to extra time. They blame the ref, FIFA, Rashford, climate change but not Mr England (Kane) who hoofed that ball into the stands.', truncated=False, display_text_range=[0, 271], entities={'hashtags': [], 'symbols': [], 'user_mentions': [], 'urls': []}, metadata={'iso_language_code': 'en', 'result_type': 'recent'}, source='Twitter for Android', source_url='http://twitter.com/download/android', in_reply_to_status_id=None, in_reply_to_status_id_str=None, in_reply_to_user_id=None, in_reply_to_user_id_str=None, in_reply_to_screen_name=None, author=User(_api=<tweepy.api.API object at 0x7f2c587c0b80>, _json={'id': 1267956633830862850, 'id_str': '1267956633830862850', 'name': 'Muswema Mukuni Kambaki', 'screen_name': 'ChizoKambaki', 'location': 'Zambia ', 'description': 'Living in a world quite similar to this one 🌍', 'url': None, 'entities': {'description': {'urls': []}}, 'protected': False, 'followers_count': 27, 'friends_count': 482, 'listed_count': 0, 'created_at': 'Tue Jun 02 23:10:11 +0000 2020', 'favourites_count': 1026, 'utc_offset': None, 'time_zone': None, 'geo_enabled': False, 'verified': False, 'statuses_count': 560, 'lang': None, 'contributors_enabled': False, 'is_translator': False, 'is_translation_enabled': False, 'profile_background_color': 'F5F8FA', 'profile_background_image_url': None, 'profile_background_image_url_https': None, 'profile_background_tile': False, 'profile_image_url': 'http://pbs.twimg.com/profile_images/1497596010151002112/nElV5B4L_normal.jpg', 'profile_image_url_https': 'https://pbs.twimg.com/profile_images/1497596010151002112/nElV5B4L_normal.jpg', 'profile_banner_url': 'https://pbs.twimg.com/profile_banners/1267956633830862850/1669622520', 'profile_link_color': '1DA1F2', 'profile_sidebar_border_color': 'C0DEED', 'profile_sidebar_fill_color': 'DDEEF6', 'profile_text_color': '333333', 'profile_use_background_image': True, 'has_extended_profile': True, 'default_profile': True, 'default_profile_image': False, 'following': False, 'follow_request_sent': False, 'notifications': False, 'translator_type': 'none', 'withheld_in_countries': []}, id=1267956633830862850, id_str='1267956633830862850', name='Muswema Mukuni Kambaki', screen_name='ChizoKambaki', location='Zambia ', description='Living in a world quite similar to this one 🌍', url=None, entities={'description': {'urls': []}}, protected=False, followers_count=27, friends_count=482, listed_count=0, created_at=datetime.datetime(2020, 6, 2, 23, 10, 11, tzinfo=datetime.timezone.utc), favourites_count=1026, utc_offset=None, time_zone=None, geo_enabled=False, verified=False, statuses_count=560, lang=None, contributors_enabled=False, is_translator=False, is_translation_enabled=False, profile_background_color='F5F8FA', profile_background_image_url=None, profile_background_image_url_https=None, profile_background_tile=False, profile_image_url='http://pbs.twimg.com/profile_images/1497596010151002112/nElV5B4L_normal.jpg', profile_image_url_https='https://pbs.twimg.com/profile_images/1497596010151002112/nElV5B4L_normal.jpg', profile_banner_url='https://pbs.twimg.com/profile_banners/1267956633830862850/1669622520', profile_link_color='1DA1F2', profile_sidebar_border_color='C0DEED', profile_sidebar_fill_color='DDEEF6', profile_text_color='333333', profile_use_background_image=True, has_extended_profile=True, default_profile=True, default_profile_image=False, following=False, follow_request_sent=False, notifications=False, translator_type='none', withheld_in_countries=[]), user=User(_api=<tweepy.api.API object at 0x7f2c587c0b80>, _json={'id': 1267956633830862850, 'id_str': '1267956633830862850', 'name': 'Muswema Mukuni Kambaki', 'screen_name': 'ChizoKambaki', 'location': 'Zambia ', 'description': 'Living in a world quite similar to this one 🌍', 'url': None, 'entities': {'description': {'urls': []}}, 'protected': False, 'followers_count': 27, 'friends_count': 482, 'listed_count': 0, 'created_at': 'Tue Jun 02 23:10:11 +0000 2020', 'favourites_count': 1026, 'utc_offset': None, 'time_zone': None, 'geo_enabled': False, 'verified': False, 'statuses_count': 560, 'lang': None, 'contributors_enabled': False, 'is_translator': False, 'is_translation_enabled': False, 'profile_background_color': 'F5F8FA', 'profile_background_image_url': None, 'profile_background_image_url_https': None, 'profile_background_tile': False, 'profile_image_url': 'http://pbs.twimg.com/profile_images/1497596010151002112/nElV5B4L_normal.jpg', 'profile_image_url_https': 'https://pbs.twimg.com/profile_images/1497596010151002112/nElV5B4L_normal.jpg', 'profile_banner_url': 'https://pbs.twimg.com/profile_banners/1267956633830862850/1669622520', 'profile_link_color': '1DA1F2', 'profile_sidebar_border_color': 'C0DEED', 'profile_sidebar_fill_color': 'DDEEF6', 'profile_text_color': '333333', 'profile_use_background_image': True, 'has_extended_profile': True, 'default_profile': True, 'default_profile_image': False, 'following': False, 'follow_request_sent': False, 'notifications': False, 'translator_type': 'none', 'withheld_in_countries': []}, id=1267956633830862850, id_str='1267956633830862850', name='Muswema Mukuni Kambaki', screen_name='ChizoKambaki', location='Zambia ', description='Living in a world quite similar to this one 🌍', url=None, entities={'description': {'urls': []}}, protected=False, followers_count=27, friends_count=482, listed_count=0, created_at=datetime.datetime(2020, 6, 2, 23, 10, 11, tzinfo=datetime.timezone.utc), favourites_count=1026, utc_offset=None, time_zone=None, geo_enabled=False, verified=False, statuses_count=560, lang=None, contributors_enabled=False, is_translator=False, is_translation_enabled=False, profile_background_color='F5F8FA', profile_background_image_url=None, profile_background_image_url_https=None, profile_background_tile=False, profile_image_url='http://pbs.twimg.com/profile_images/1497596010151002112/nElV5B4L_normal.jpg', profile_image_url_https='https://pbs.twimg.com/profile_images/1497596010151002112/nElV5B4L_normal.jpg', profile_banner_url='https://pbs.twimg.com/profile_banners/1267956633830862850/1669622520', profile_link_color='1DA1F2', profile_sidebar_border_color='C0DEED', profile_sidebar_fill_color='DDEEF6', profile_text_color='333333', profile_use_background_image=True, has_extended_profile=True, default_profile=True, default_profile_image=False, following=False, follow_request_sent=False, notifications=False, translator_type='none', withheld_in_countries=[]), geo=None, coordinates=None, place=None, contributors=None, is_quote_status=False, retweet_count=0, favorite_count=0, favorited=False, retweeted=False, lang='en')"
            ]
          },
          "metadata": {},
          "execution_count": 10
        }
      ]
    },
    {
      "cell_type": "code",
      "execution_count": null,
      "metadata": {
        "id": "Z5Uwr22WSiMH"
      },
      "outputs": [],
      "source": [
        "from google.colab import files\n",
        "tweets_df.to_csv('tweets.csv')\n",
        "files.download('tweets.csv')"
      ]
    }
  ],
  "metadata": {
    "colab": {
      "provenance": [],
      "include_colab_link": true
    },
    "kernelspec": {
      "display_name": "Python 3",
      "name": "python3"
    },
    "language_info": {
      "name": "python"
    }
  },
  "nbformat": 4,
  "nbformat_minor": 0
}